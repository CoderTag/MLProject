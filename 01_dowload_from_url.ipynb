{
 "cells": [
  {
   "cell_type": "code",
   "execution_count": 1,
   "id": "83db3d00",
   "metadata": {},
   "outputs": [],
   "source": [
    "# Python ≥3.11 is required\n",
    "import sys\n",
    "assert sys.version_info >= (3,11)"
   ]
  },
  {
   "cell_type": "code",
   "execution_count": 5,
   "id": "644d3cc9",
   "metadata": {},
   "outputs": [],
   "source": [
    "# Scikit-Learn ≥1.6.1 is required\n",
    "import sklearn\n",
    "assert sklearn.__version__ >= \"1.6.1\""
   ]
  },
  {
   "cell_type": "code",
   "execution_count": 16,
   "id": "486fd742",
   "metadata": {},
   "outputs": [
    {
     "name": "stdout",
     "output_type": "stream",
     "text": [
      "Downloading oecd_bli_2015.csv\n",
      "Downloading gdp_per_capita.csv\n"
     ]
    }
   ],
   "source": [
    "import urllib.request\n",
    "import os\n",
    "\n",
    "datapath = os.path.join(\"datasets\", \"lifesat\", \"\")\n",
    "datapath\n",
    "os.makedirs(datapath, exist_ok=True)\n",
    "\n",
    "DOWNLOAD_ROOT = \"https://raw.githubusercontent.com/ageron/handson-ml2/master/\"\n",
    "\n",
    "for filename in (\"oecd_bli_2015.csv\", \"gdp_per_capita.csv\"):\n",
    "    print(\"Downloading\", filename)\n",
    "    url = DOWNLOAD_ROOT + \"datasets/lifesat/\" + filename\n",
    "    urllib.request.urlretrieve(url, datapath + filename)"
   ]
  },
  {
   "cell_type": "markdown",
   "id": "561cbf1e",
   "metadata": {},
   "source": [
    "🔹 thousands=','\n",
    "This tells Pandas how to interpret numbers containing thousands separators, such as:\n",
    "\"34,567\" → 34567\n",
    "Without specifying this, Pandas might treat \"34,567\" as a string rather than a numeric value. Setting thousands=',' ensures such values are parsed as integers or floats.\n",
    "\n",
    "🔹 delimiter='\\t'\n",
    "Specifies the character used to separate columns in the file.\\t is a tab character, indicating the file is tab-separated, not comma-separated, even though the extension is .csv.\n",
    "\n",
    "🔹 encoding='latin1'\n",
    "Specifies the text encoding of the file.'latin1', also called ISO-8859-1, is a common character set used in Western Europe. Useful when the file contains special characters like accented letters: é, ñ, ü, etc. Using encoding='latin1' prevents Unicode decoding errors (which you might get with default utf-8) when reading such files.\n",
    "\n",
    "🔹 na_values=\"n/a\"\n",
    "Tells Pandas what strings to interpret as missing values (NaN). If the file has cells containing \"n/a\", they will be automatically converted into NaN (Not a Number) in the resulting DataFrame."
   ]
  },
  {
   "cell_type": "code",
   "execution_count": null,
   "id": "5a76e6f0",
   "metadata": {},
   "outputs": [
    {
     "ename": "NameError",
     "evalue": "name 'prepare_country_stats' is not defined",
     "output_type": "error",
     "traceback": [
      "\u001b[31m---------------------------------------------------------------------------\u001b[39m",
      "\u001b[31mNameError\u001b[39m                                 Traceback (most recent call last)",
      "\u001b[36mCell\u001b[39m\u001b[36m \u001b[39m\u001b[32mIn[19]\u001b[39m\u001b[32m, line 13\u001b[39m\n\u001b[32m      9\u001b[39m gdp_per_capita = pd.read_csv(datapath + \u001b[33m\"\u001b[39m\u001b[33mgdp_per_capita.csv\u001b[39m\u001b[33m\"\u001b[39m,thousands=\u001b[33m'\u001b[39m\u001b[33m,\u001b[39m\u001b[33m'\u001b[39m,delimiter=\u001b[33m'\u001b[39m\u001b[38;5;130;01m\\t\u001b[39;00m\u001b[33m'\u001b[39m,\n\u001b[32m     10\u001b[39m                              encoding=\u001b[33m'\u001b[39m\u001b[33mlatin1\u001b[39m\u001b[33m'\u001b[39m, na_values=\u001b[33m\"\u001b[39m\u001b[33mn/a\u001b[39m\u001b[33m\"\u001b[39m)\n\u001b[32m     12\u001b[39m \u001b[38;5;66;03m# Prepare the data\u001b[39;00m\n\u001b[32m---> \u001b[39m\u001b[32m13\u001b[39m country_stats = \u001b[43mprepare_country_stats\u001b[49m(oecd_bli, gdp_per_capita)\n\u001b[32m     14\u001b[39m X = np.c_[country_stats[\u001b[33m\"\u001b[39m\u001b[33mGDP per capita\u001b[39m\u001b[33m\"\u001b[39m]]\n\u001b[32m     15\u001b[39m y = np.c_[country_stats[\u001b[33m\"\u001b[39m\u001b[33mLife satisfaction\u001b[39m\u001b[33m\"\u001b[39m]]\n",
      "\u001b[31mNameError\u001b[39m: name 'prepare_country_stats' is not defined"
     ]
    }
   ],
   "source": [
    "# Code example\n",
    "import matplotlib.pyplot as plt\n",
    "import numpy as np\n",
    "import pandas as pd\n",
    "\n",
    "# import linear regression\n",
    "import sklearn.linear_model\n",
    "\n",
    "# Load the data\n",
    "oecd_bli = pd.read_csv(datapath + \"oecd_bli_2015.csv\", thousands=',')\n",
    "gdp_per_capita = pd.read_csv(datapath + \"gdp_per_capita.csv\",thousands=',',delimiter='\\t',\n",
    "                             encoding='latin1', na_values=\"n/a\")\n",
    "\n",
    "# Prepare the data\n",
    "country_stats = prepare_country_stats(oecd_bli, gdp_per_capita)\n",
    "X = np.c_[country_stats[\"GDP per capita\"]]\n",
    "y = np.c_[country_stats[\"Life satisfaction\"]]\n",
    "\n",
    "# Visualize the data\n",
    "country_stats.plot(kind='scatter', x=\"GDP per capita\", y='Life satisfaction')\n",
    "plt.show()\n",
    "\n",
    "# Select a linear model\n",
    "model = sklearn.linear_model.LinearRegression()\n",
    "\n",
    "# Train the model\n",
    "model.fit(X, y)\n",
    "\n",
    "# Make a prediction for Cyprus\n",
    "X_new = [[22587]]  # Cyprus' GDP per capita\n",
    "print(model.predict(X_new)) # outputs [[ 5.96242338]]"
   ]
  }
 ],
 "metadata": {
  "kernelspec": {
   "display_name": "langchain",
   "language": "python",
   "name": "python3"
  },
  "language_info": {
   "codemirror_mode": {
    "name": "ipython",
    "version": 3
   },
   "file_extension": ".py",
   "mimetype": "text/x-python",
   "name": "python",
   "nbconvert_exporter": "python",
   "pygments_lexer": "ipython3",
   "version": "3.11.13"
  }
 },
 "nbformat": 4,
 "nbformat_minor": 5
}
